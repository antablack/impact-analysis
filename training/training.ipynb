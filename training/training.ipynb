{
 "cells": [
  {
   "cell_type": "code",
   "execution_count": 1,
   "metadata": {},
   "outputs": [],
   "source": [
    "from sklearn.feature_extraction.text import CountVectorizer\n",
    "import pandas as pd\n",
    "from joblib import dump, load"
   ]
  },
  {
   "cell_type": "code",
   "execution_count": 2,
   "metadata": {},
   "outputs": [
    {
     "name": "stderr",
     "output_type": "stream",
     "text": [
      "b'Skipping line 16470: expected 7 fields, saw 8\\nSkipping line 17495: expected 7 fields, saw 8\\nSkipping line 17542: expected 7 fields, saw 11\\nSkipping line 20709: expected 7 fields, saw 9\\nSkipping line 27366: expected 7 fields, saw 8\\nSkipping line 29075: expected 7 fields, saw 8\\nSkipping line 30636: expected 7 fields, saw 10\\nSkipping line 32731: expected 7 fields, saw 8\\nSkipping line 35429: expected 7 fields, saw 8\\nSkipping line 47785: expected 7 fields, saw 11\\nSkipping line 73959: expected 7 fields, saw 9\\nSkipping line 74381: expected 7 fields, saw 8\\nSkipping line 77779: expected 7 fields, saw 8\\n'\n"
     ]
    },
    {
     "data": {
      "text/html": [
       "<div>\n",
       "<style scoped>\n",
       "    .dataframe tbody tr th:only-of-type {\n",
       "        vertical-align: middle;\n",
       "    }\n",
       "\n",
       "    .dataframe tbody tr th {\n",
       "        vertical-align: top;\n",
       "    }\n",
       "\n",
       "    .dataframe thead th {\n",
       "        text-align: right;\n",
       "    }\n",
       "</style>\n",
       "<table border=\"1\" class=\"dataframe\">\n",
       "  <thead>\n",
       "    <tr style=\"text-align: right;\">\n",
       "      <th></th>\n",
       "      <th>Unnamed: 0</th>\n",
       "      <th>Comment</th>\n",
       "      <th>Sentiment</th>\n",
       "      <th>Sentiment_Mixed</th>\n",
       "      <th>Sentiment_Negative</th>\n",
       "      <th>Sentiment_Neutral</th>\n",
       "      <th>Sentiment_Positive</th>\n",
       "    </tr>\n",
       "  </thead>\n",
       "  <tbody>\n",
       "    <tr>\n",
       "      <th>0</th>\n",
       "      <td>0</td>\n",
       "      <td>Yo controlaré tu vida, no pongas resistencia. ...</td>\n",
       "      <td>MIXED</td>\n",
       "      <td>0.6923964023590088</td>\n",
       "      <td>0.0562804751098156</td>\n",
       "      <td>0.11458773910999298</td>\n",
       "      <td>0.13673537969589233</td>\n",
       "    </tr>\n",
       "    <tr>\n",
       "      <th>1</th>\n",
       "      <td>1</td>\n",
       "      <td>El Big Brother</td>\n",
       "      <td>NEUTRAL</td>\n",
       "      <td>0.0008369073620997369</td>\n",
       "      <td>0.4505760669708252</td>\n",
       "      <td>0.5237205624580383</td>\n",
       "      <td>0.02486647106707096</td>\n",
       "    </tr>\n",
       "    <tr>\n",
       "      <th>2</th>\n",
       "      <td>2</td>\n",
       "      <td>¡Genial documental como siempre, chicos! Un te...</td>\n",
       "      <td>POSITIVE</td>\n",
       "      <td>0.0011725407093763351</td>\n",
       "      <td>0.0001910059218062088</td>\n",
       "      <td>0.019178738817572594</td>\n",
       "      <td>0.9794577360153198</td>\n",
       "    </tr>\n",
       "    <tr>\n",
       "      <th>3</th>\n",
       "      <td>3</td>\n",
       "      <td>No seamos inconscientes comprar al vecino de l...</td>\n",
       "      <td>NEUTRAL</td>\n",
       "      <td>0.17682310938835144</td>\n",
       "      <td>0.02448095567524433</td>\n",
       "      <td>0.4111078381538391</td>\n",
       "      <td>0.3875880241394043</td>\n",
       "    </tr>\n",
       "    <tr>\n",
       "      <th>4</th>\n",
       "      <td>4</td>\n",
       "      <td>Capitalismo de vigilancia</td>\n",
       "      <td>NEUTRAL</td>\n",
       "      <td>0.002510450081899762</td>\n",
       "      <td>0.13656044006347656</td>\n",
       "      <td>0.8545124530792236</td>\n",
       "      <td>0.006416601128876209</td>\n",
       "    </tr>\n",
       "  </tbody>\n",
       "</table>\n",
       "</div>"
      ],
      "text/plain": [
       "  Unnamed: 0                                            Comment Sentiment  \\\n",
       "0          0  Yo controlaré tu vida, no pongas resistencia. ...     MIXED   \n",
       "1          1                                     El Big Brother   NEUTRAL   \n",
       "2          2  ¡Genial documental como siempre, chicos! Un te...  POSITIVE   \n",
       "3          3  No seamos inconscientes comprar al vecino de l...   NEUTRAL   \n",
       "4          4                          Capitalismo de vigilancia   NEUTRAL   \n",
       "\n",
       "         Sentiment_Mixed     Sentiment_Negative     Sentiment_Neutral  \\\n",
       "0     0.6923964023590088     0.0562804751098156   0.11458773910999298   \n",
       "1  0.0008369073620997369     0.4505760669708252    0.5237205624580383   \n",
       "2  0.0011725407093763351  0.0001910059218062088  0.019178738817572594   \n",
       "3    0.17682310938835144    0.02448095567524433    0.4111078381538391   \n",
       "4   0.002510450081899762    0.13656044006347656    0.8545124530792236   \n",
       "\n",
       "     Sentiment_Positive  \n",
       "0   0.13673537969589233  \n",
       "1   0.02486647106707096  \n",
       "2    0.9794577360153198  \n",
       "3    0.3875880241394043  \n",
       "4  0.006416601128876209  "
      ]
     },
     "execution_count": 2,
     "metadata": {},
     "output_type": "execute_result"
    }
   ],
   "source": [
    "df = pd.read_csv('./data-test.csv', index_col=False, encoding='utf-8', error_bad_lines=False)\n",
    "df.head()"
   ]
  },
  {
   "cell_type": "code",
   "execution_count": 3,
   "metadata": {},
   "outputs": [
    {
     "data": {
      "text/plain": [
       "Unnamed: 0            38418\n",
       "Comment               38418\n",
       "Sentiment             38418\n",
       "Sentiment_Mixed       38418\n",
       "Sentiment_Negative    38418\n",
       "Sentiment_Neutral     38418\n",
       "Sentiment_Positive    38418\n",
       "dtype: int64"
      ]
     },
     "execution_count": 3,
     "metadata": {},
     "output_type": "execute_result"
    }
   ],
   "source": [
    "df = df[df['Sentiment'].isin(['POSITIVE', 'NEGATIVE'])]\n",
    "df.count()"
   ]
  },
  {
   "cell_type": "code",
   "execution_count": 4,
   "metadata": {},
   "outputs": [],
   "source": [
    "import numpy as np\n",
    "import re\n",
    "\n",
    "redisConnection = None\n",
    "\n",
    "def deEmojify(text):\n",
    "    regrex_pattern = re.compile(pattern = \"[\"\n",
    "        u\"\\U0001F600-\\U0001F64F\"  # emoticons\n",
    "        u\"\\U0001F300-\\U0001F5FF\"  # symbols & pictographs\n",
    "        u\"\\U0001F680-\\U0001F6FF\"  # transport & map symbols\n",
    "        u\"\\U0001F1E0-\\U0001F1FF\"  # flags (iOS)\n",
    "                           \"]+\", flags = re.UNICODE)\n",
    "    return regrex_pattern.sub(r'',text)\n",
    "\n",
    "def remove_stopswords(comment):\n",
    "    stop_words = [ \"algún\", \"alguna\", \"algunas\", \"alguno\", \"algunos\", \"ambos\", \"ampleamos\", \"ante\", \"antes\", \"aquel\", \"aquellas\", \"aquellos\", \"aqui\", \"arriba\", \"atras\", \"bajo\", \"bastante\", \"bien\", \"cada\", \"cierta\", \"ciertas\", \"cierto\", \"ciertos\", \"como\", \"con\", \"conseguimos\", \"conseguir\", \"consigo\", \"consigue\", \"consiguen\", \"consigues\", \"cual\", \"cuando\", \"dentro\", \"desde\", \"donde\", \"dos\", \"el\", \"ellas\", \"ellos\", \"empleais\", \"emplean\", \"emplear\", \"empleas\", \"empleo\", \"en\", \"encima\", \"entonces\", \"entre\", \"era\", \"eramos\", \"eran\", \"eras\", \"eres\", \"es\", \"esta\", \"estaba\", \"estado\", \"estais\", \"estamos\", \"estan\", \"estoy\", \"fin\", \"fue\", \"fueron\", \"fui\", \"fuimos\", \"gueno\", \"ha\", \"hace\", \"haceis\", \"hacemos\", \"hacen\", \"hacer\", \"haces\", \"hago\", \"incluso\", \"intenta\", \"intentais\", \"intentamos\", \"intentan\", \"intentar\", \"intentas\", \"intento\", \"ir\", \"la\", \"largo\", \"las\", \"lo\", \"los\", \"mientras\", \"mio\", \"modo\", \"muchos\", \"muy\", \"nos\", \"nosotros\", \"otro\", \"para\", \"pero\", \"podeis\", \"podemos\", \"poder\", \"podria\", \"podriais\", \"podriamos\", \"podrian\", \"podrias\", \"por\", \"por qué\", \"porque\", \"primero\", \"puede\", \"pueden\", \"puedo\", \"quien\", \"sabe\", \"sabeis\", \"sabemos\", \"saben\", \"saber\", \"sabes\", \"ser\", \"si\", \"siendo\", \"sin\", \"sobre\", \"sois\", \"solamente\", \"solo\", \"somos\", \"soy\", \"su\", \"sus\", \"también\", \"teneis\", \"tenemos\", \"tener\", \"tengo\", \"tiempo\", \"tiene\", \"tienen\", \"todo\", \"trabaja\", \"trabajais\", \"trabajamos\", \"trabajan\", \"trabajar\", \"trabajas\", \"trabajo\", \"tras\", \"tuyo\", \"ultimo\", \"un\", \"una\", \"unas\", \"uno\", \"unos\", \"usa\", \"usais\", \"usamos\", \"usan\", \"usar\", \"usas\", \"uso\", \"va\", \"vais\", \"valor\", \"vamos\", \"van\", \"vaya\", \"verdad\", \"verdadera\", \"verdadero\", \"vosotras\", \"vosotros\", \"voy\", \"yo\", \"él\", \"ésta\", \"éstas\", \"éste\", \"éstos\", \"última\", \"últimas\", \"último\", \"últimos\", \"a\", \"añadió\", \"aún\", \"actualmente\", \"adelante\", \"además\", \"afirmó\", \"agregó\", \"ahí\", \"ahora\", \"al\", \"algo\", \"alrededor\", \"anterior\", \"apenas\", \"aproximadamente\", \"aquí\", \"así\", \"aseguró\", \"aunque\", \"ayer\", \"buen\", \"buena\", \"buenas\", \"bueno\", \"buenos\", \"cómo\", \"casi\", \"cerca\", \"cinco\", \"comentó\", \"conocer\", \"consideró\", \"considera\", \"contra\", \"cosas\", \"creo\", \"cuales\", \"cualquier\", \"cuanto\", \"cuatro\", \"cuenta\", \"da\", \"dado\", \"dan\", \"dar\", \"de\", \"debe\", \"deben\", \"debido\", \"decir\", \"dejó\", \"del\", \"demás\", \"después\", \"dice\", \"dicen\", \"dicho\", \"dieron\", \"diferente\", \"diferentes\", \"dijeron\", \"dijo\", \"dio\", \"durante\", \"e\", \"ejemplo\", \"ella\", \"ello\", \"embargo\", \"encuentra\", \"esa\", \"esas\", \"ese\", \"eso\", \"esos\", \"está\", \"están\", \"estaban\", \"estar\", \"estará\", \"estas\", \"este\", \"esto\", \"estos\", \"estuvo\", \"ex\", \"existe\", \"existen\", \"explicó\", \"expresó\", \"fuera\", \"gran\", \"grandes\", \"había\", \"habían\", \"haber\", \"habrá\", \"hacerlo\", \"hacia\", \"haciendo\", \"han\", \"hasta\", \"hay\", \"haya\", \"he\", \"hecho\", \"hemos\", \"hicieron\", \"hizo\", \"hoy\", \"hubo\", \"igual\", \"indicó\", \"informó\", \"junto\", \"lado\", \"le\", \"les\", \"llegó\", \"lleva\", \"llevar\", \"luego\", \"lugar\", \"más\", \"manera\", \"manifestó\", \"mayor\", \"me\", \"mediante\", \"mejor\", \"mencionó\", \"menos\", \"mi\", \"misma\", \"mismas\", \"mismo\", \"mismos\", \"momento\", \"mucha\", \"muchas\", \"mucho\", \"nada\", \"nadie\", \"ni\", \"ningún\", \"ninguna\", \"ningunas\", \"ninguno\", \"ningunos\", \"no\", \"nosotras\", \"nuestra\", \"nuestras\", \"nuestro\", \"nuestros\", \"nueva\", \"nuevas\", \"nuevo\", \"nuevos\", \"nunca\", \"o\", \"ocho\", \"otra\", \"otras\", \"otros\", \"parece\", \"parte\", \"partir\", \"pasada\", \"pasado\", \"pesar\", \"poca\", \"pocas\", \"poco\", \"pocos\", \"podrá\", \"podrán\", \"podría\", \"podrían\", \"poner\", \"posible\", \"próximo\", \"próximos\", \"primer\", \"primera\", \"primeros\", \"principalmente\", \"propia\", \"propias\", \"propio\", \"propios\", \"pudo\", \"pueda\", \"pues\", \"qué\", \"que\", \"quedó\", \"queremos\", \"quién\", \"quienes\", \"quiere\", \"realizó\", \"realizado\", \"realizar\", \"respecto\", \"sí\", \"sólo\", \"se\", \"señaló\", \"sea\", \"sean\", \"según\", \"segunda\", \"segundo\", \"seis\", \"será\", \"serán\", \"sería\", \"sido\", \"siempre\", \"siete\", \"sigue\", \"siguiente\", \"sino\", \"sola\", \"solas\", \"solos\", \"son\", \"tal\", \"tampoco\", \"tan\", \"tanto\", \"tenía\", \"tendrá\", \"tendrán\", \"tenga\", \"tenido\", \"tercera\", \"toda\", \"todas\", \"todavía\", \"todos\", \"total\", \"trata\", \"través\", \"tres\", \"tuvo\", \"usted\", \"varias\", \"varios\", \"veces\", \"ver\", \"vez\", \"y\", \"ya\"]\n",
    "    stop_words = set(stop_words)\n",
    "    comment = ' '.join([word for word in comment.split() if word not in stop_words])\n",
    "    comment = comment.replace('.', '')\n",
    "    comment = comment.replace(',', '')\n",
    "    comment = comment.replace(':', '')\n",
    "    comment = comment.replace(';', '')\n",
    "    return comment\n",
    "\n",
    "def normalize(comment):\n",
    "    comment = str(comment).lower().strip()\n",
    "    #comment = remove_stopswords(comment)\n",
    "    return deEmojify(comment)\n",
    "df['Comment'] = df['Comment'].apply(lambda x: normalize(x))"
   ]
  },
  {
   "cell_type": "code",
   "execution_count": 5,
   "metadata": {},
   "outputs": [
    {
     "data": {
      "text/html": [
       "<div>\n",
       "<style scoped>\n",
       "    .dataframe tbody tr th:only-of-type {\n",
       "        vertical-align: middle;\n",
       "    }\n",
       "\n",
       "    .dataframe tbody tr th {\n",
       "        vertical-align: top;\n",
       "    }\n",
       "\n",
       "    .dataframe thead th {\n",
       "        text-align: right;\n",
       "    }\n",
       "</style>\n",
       "<table border=\"1\" class=\"dataframe\">\n",
       "  <thead>\n",
       "    <tr style=\"text-align: right;\">\n",
       "      <th></th>\n",
       "      <th>Unnamed: 0</th>\n",
       "      <th>Comment</th>\n",
       "      <th>Sentiment</th>\n",
       "      <th>Sentiment_Mixed</th>\n",
       "      <th>Sentiment_Negative</th>\n",
       "      <th>Sentiment_Neutral</th>\n",
       "      <th>Sentiment_Positive</th>\n",
       "    </tr>\n",
       "  </thead>\n",
       "  <tbody>\n",
       "    <tr>\n",
       "      <th>2</th>\n",
       "      <td>2</td>\n",
       "      <td>¡genial documental como siempre, chicos! un te...</td>\n",
       "      <td>1</td>\n",
       "      <td>0.0011725407093763351</td>\n",
       "      <td>0.0001910059218062088</td>\n",
       "      <td>0.019178738817572594</td>\n",
       "      <td>0.9794577360153198</td>\n",
       "    </tr>\n",
       "    <tr>\n",
       "      <th>6</th>\n",
       "      <td>6</td>\n",
       "      <td>mas produccion de cosas.... los recursos ya es...</td>\n",
       "      <td>0</td>\n",
       "      <td>0.028857523575425148</td>\n",
       "      <td>0.9441418647766113</td>\n",
       "      <td>0.016397174447774887</td>\n",
       "      <td>0.010603433474898338</td>\n",
       "    </tr>\n",
       "    <tr>\n",
       "      <th>8</th>\n",
       "      <td>8</td>\n",
       "      <td>ya  valió  vreg* :v</td>\n",
       "      <td>0</td>\n",
       "      <td>0.00010315587132936344</td>\n",
       "      <td>0.7937020063400269</td>\n",
       "      <td>0.12492398917675018</td>\n",
       "      <td>0.08127087354660034</td>\n",
       "    </tr>\n",
       "    <tr>\n",
       "      <th>9</th>\n",
       "      <td>9</td>\n",
       "      <td>excelente, muchas gracias!</td>\n",
       "      <td>1</td>\n",
       "      <td>0.0001030199637170881</td>\n",
       "      <td>0.00010250887862639502</td>\n",
       "      <td>0.001561997109092772</td>\n",
       "      <td>0.9982325434684753</td>\n",
       "    </tr>\n",
       "    <tr>\n",
       "      <th>12</th>\n",
       "      <td>12</td>\n",
       "      <td>cual cambio revolucionario ? que propones para...</td>\n",
       "      <td>0</td>\n",
       "      <td>0.07215190678834915</td>\n",
       "      <td>0.6406003832817078</td>\n",
       "      <td>0.2784317135810852</td>\n",
       "      <td>0.008816003799438477</td>\n",
       "    </tr>\n",
       "  </tbody>\n",
       "</table>\n",
       "</div>"
      ],
      "text/plain": [
       "   Unnamed: 0                                            Comment  Sentiment  \\\n",
       "2           2  ¡genial documental como siempre, chicos! un te...          1   \n",
       "6           6  mas produccion de cosas.... los recursos ya es...          0   \n",
       "8           8                                ya  valió  vreg* :v          0   \n",
       "9           9                         excelente, muchas gracias!          1   \n",
       "12         12  cual cambio revolucionario ? que propones para...          0   \n",
       "\n",
       "           Sentiment_Mixed      Sentiment_Negative     Sentiment_Neutral  \\\n",
       "2    0.0011725407093763351   0.0001910059218062088  0.019178738817572594   \n",
       "6     0.028857523575425148      0.9441418647766113  0.016397174447774887   \n",
       "8   0.00010315587132936344      0.7937020063400269   0.12492398917675018   \n",
       "9    0.0001030199637170881  0.00010250887862639502  0.001561997109092772   \n",
       "12     0.07215190678834915      0.6406003832817078    0.2784317135810852   \n",
       "\n",
       "      Sentiment_Positive  \n",
       "2     0.9794577360153198  \n",
       "6   0.010603433474898338  \n",
       "8    0.08127087354660034  \n",
       "9     0.9982325434684753  \n",
       "12  0.008816003799438477  "
      ]
     },
     "execution_count": 5,
     "metadata": {},
     "output_type": "execute_result"
    }
   ],
   "source": [
    "df['Comment'] = df['Comment'].apply(lambda x: str(x).lower())\n",
    "df['Sentiment'] = df['Sentiment'].apply(lambda x: 1 if x == 'POSITIVE' else 0)\n",
    "df.head()"
   ]
  },
  {
   "cell_type": "code",
   "execution_count": 6,
   "metadata": {},
   "outputs": [],
   "source": [
    "vectorizer = CountVectorizer(\n",
    "    analyzer = 'word',\n",
    "    lowercase = True,\n",
    ")\n",
    "features = vectorizer.fit_transform(\n",
    "    df['Comment']\n",
    ")\n",
    "features_nd = features.toarray() # for easy usage\n"
   ]
  },
  {
   "cell_type": "code",
   "execution_count": 7,
   "metadata": {},
   "outputs": [],
   "source": [
    "from sklearn.model_selection import train_test_split\n",
    "\n",
    "X_train, X_test, y_train, y_test  = train_test_split(\n",
    "        features_nd, \n",
    "        df['Sentiment'],\n",
    "        train_size=0.80, \n",
    "        random_state=1234)"
   ]
  },
  {
   "cell_type": "code",
   "execution_count": 9,
   "metadata": {
    "scrolled": true
   },
   "outputs": [
    {
     "data": {
      "text/html": [
       "<div>\n",
       "<style scoped>\n",
       "    .dataframe tbody tr th:only-of-type {\n",
       "        vertical-align: middle;\n",
       "    }\n",
       "\n",
       "    .dataframe tbody tr th {\n",
       "        vertical-align: top;\n",
       "    }\n",
       "\n",
       "    .dataframe thead th {\n",
       "        text-align: right;\n",
       "    }\n",
       "</style>\n",
       "<table border=\"1\" class=\"dataframe\">\n",
       "  <thead>\n",
       "    <tr style=\"text-align: right;\">\n",
       "      <th></th>\n",
       "      <th>Unnamed: 0</th>\n",
       "      <th>Comment</th>\n",
       "      <th>Sentiment</th>\n",
       "      <th>Sentiment_Mixed</th>\n",
       "      <th>Sentiment_Negative</th>\n",
       "      <th>Sentiment_Neutral</th>\n",
       "      <th>Sentiment_Positive</th>\n",
       "    </tr>\n",
       "  </thead>\n",
       "  <tbody>\n",
       "    <tr>\n",
       "      <th>2</th>\n",
       "      <td>2</td>\n",
       "      <td>¡genial documental como siempre, chicos! un te...</td>\n",
       "      <td>1</td>\n",
       "      <td>0.0011725407093763351</td>\n",
       "      <td>0.0001910059218062088</td>\n",
       "      <td>0.019178738817572594</td>\n",
       "      <td>0.9794577360153198</td>\n",
       "    </tr>\n",
       "    <tr>\n",
       "      <th>6</th>\n",
       "      <td>6</td>\n",
       "      <td>mas produccion de cosas.... los recursos ya es...</td>\n",
       "      <td>0</td>\n",
       "      <td>0.028857523575425148</td>\n",
       "      <td>0.9441418647766113</td>\n",
       "      <td>0.016397174447774887</td>\n",
       "      <td>0.010603433474898338</td>\n",
       "    </tr>\n",
       "    <tr>\n",
       "      <th>8</th>\n",
       "      <td>8</td>\n",
       "      <td>ya  valió  vreg* :v</td>\n",
       "      <td>0</td>\n",
       "      <td>0.00010315587132936344</td>\n",
       "      <td>0.7937020063400269</td>\n",
       "      <td>0.12492398917675018</td>\n",
       "      <td>0.08127087354660034</td>\n",
       "    </tr>\n",
       "    <tr>\n",
       "      <th>9</th>\n",
       "      <td>9</td>\n",
       "      <td>excelente, muchas gracias!</td>\n",
       "      <td>1</td>\n",
       "      <td>0.0001030199637170881</td>\n",
       "      <td>0.00010250887862639502</td>\n",
       "      <td>0.001561997109092772</td>\n",
       "      <td>0.9982325434684753</td>\n",
       "    </tr>\n",
       "    <tr>\n",
       "      <th>12</th>\n",
       "      <td>12</td>\n",
       "      <td>cual cambio revolucionario ? que propones para...</td>\n",
       "      <td>0</td>\n",
       "      <td>0.07215190678834915</td>\n",
       "      <td>0.6406003832817078</td>\n",
       "      <td>0.2784317135810852</td>\n",
       "      <td>0.008816003799438477</td>\n",
       "    </tr>\n",
       "  </tbody>\n",
       "</table>\n",
       "</div>"
      ],
      "text/plain": [
       "   Unnamed: 0                                            Comment  Sentiment  \\\n",
       "2           2  ¡genial documental como siempre, chicos! un te...          1   \n",
       "6           6  mas produccion de cosas.... los recursos ya es...          0   \n",
       "8           8                                ya  valió  vreg* :v          0   \n",
       "9           9                         excelente, muchas gracias!          1   \n",
       "12         12  cual cambio revolucionario ? que propones para...          0   \n",
       "\n",
       "           Sentiment_Mixed      Sentiment_Negative     Sentiment_Neutral  \\\n",
       "2    0.0011725407093763351   0.0001910059218062088  0.019178738817572594   \n",
       "6     0.028857523575425148      0.9441418647766113  0.016397174447774887   \n",
       "8   0.00010315587132936344      0.7937020063400269   0.12492398917675018   \n",
       "9    0.0001030199637170881  0.00010250887862639502  0.001561997109092772   \n",
       "12     0.07215190678834915      0.6406003832817078    0.2784317135810852   \n",
       "\n",
       "      Sentiment_Positive  \n",
       "2     0.9794577360153198  \n",
       "6   0.010603433474898338  \n",
       "8    0.08127087354660034  \n",
       "9     0.9982325434684753  \n",
       "12  0.008816003799438477  "
      ]
     },
     "execution_count": 9,
     "metadata": {},
     "output_type": "execute_result"
    }
   ],
   "source": [
    "from sklearn.linear_model import LogisticRegression\n",
    "\n",
    "log_model = LogisticRegression(solver='lbfgs',class_weight='balanced', max_iter=10000)\n",
    "log_model = log_model.fit(X=X_train, y=y_train)\n",
    "y_pred = log_model.predict(X_test)\n",
    "df.head()"
   ]
  },
  {
   "cell_type": "code",
   "execution_count": 12,
   "metadata": {},
   "outputs": [
    {
     "data": {
      "text/plain": [
       "['vectorizer2.joblib']"
      ]
     },
     "execution_count": 12,
     "metadata": {},
     "output_type": "execute_result"
    }
   ],
   "source": [
    "dump(log_model, 'model2.joblib')\n",
    "dump(vectorizer, 'vectorizer2.joblib')"
   ]
  },
  {
   "cell_type": "code",
   "execution_count": 13,
   "metadata": {},
   "outputs": [
    {
     "name": "stdout",
     "output_type": "stream",
     "text": [
      "0\n",
      "algo que jamás en mi perra vida voy a ver en vida real siquiera jaja maldito país tercermundista\n",
      "0\n",
      "para q mierda queres tanto si con una 1660 te va igual\n",
      "1\n",
      "ese no es el pc más potente para jugar ese i9 9900k no es el más potente ni el mejor :v hay está el i9 9920x\n",
      "1\n",
      "un amigo de mi padre tiene una pc con esas estadisticas:\n",
      "- x2 rtx 2080 de asus\n",
      "- 32 gb de ram ddr5 corsair\n",
      "-refrigeracion liquida thermaltake\n",
      "-i9 9900k\n",
      "es una hermosura y se puede jugar battlefield 5 en 4k con todo al palo, me parece muy excesivo pero hay gente que le gusta y bueno ahi ellos con su gasto.\n",
      "saludos desde argentina\n",
      "0\n",
      "liiinda las 32 gb ddr5\n",
      "0\n",
      "el buen set up de dantegtx\n",
      "0\n",
      "yo si veo eso en mi escritorio me pregunto si es un pc o me voy a meter ahi,me van a encoger y mandarme a a la luna xd\n"
     ]
    }
   ],
   "source": [
    "import random\n",
    "j = random.randint(0,len(X_test)-7)\n",
    "comments = list(df['Comment'])\n",
    "for i in range(j,j+7):\n",
    "    print(y_pred[i])\n",
    "    ind = features_nd.tolist().index(X_test[i].tolist())\n",
    "    print(comments[i])"
   ]
  },
  {
   "cell_type": "code",
   "execution_count": 10,
   "metadata": {},
   "outputs": [
    {
     "name": "stdout",
     "output_type": "stream",
     "text": [
      "0.8695991671004685\n"
     ]
    }
   ],
   "source": [
    "from sklearn.metrics import accuracy_score\n",
    "print(accuracy_score(y_test, y_pred))"
   ]
  },
  {
   "cell_type": "code",
   "execution_count": null,
   "metadata": {},
   "outputs": [],
   "source": []
  }
 ],
 "metadata": {
  "kernelspec": {
   "display_name": "Python 3",
   "language": "python",
   "name": "python3"
  },
  "language_info": {
   "codemirror_mode": {
    "name": "ipython",
    "version": 3
   },
   "file_extension": ".py",
   "mimetype": "text/x-python",
   "name": "python",
   "nbconvert_exporter": "python",
   "pygments_lexer": "ipython3",
   "version": "3.8.3"
  }
 },
 "nbformat": 4,
 "nbformat_minor": 4
}
