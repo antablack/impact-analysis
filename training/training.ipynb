{
 "cells": [
  {
   "cell_type": "code",
   "execution_count": 9,
   "metadata": {},
   "outputs": [],
   "source": [
    "from sklearn.feature_extraction.text import CountVectorizer\n",
    "import pandas as pd\n",
    "from joblib import dump, load"
   ]
  },
  {
   "cell_type": "code",
   "execution_count": 2,
   "metadata": {},
   "outputs": [
    {
     "name": "stderr",
     "output_type": "stream",
     "text": [
      "b'Skipping line 7947: expected 7 fields, saw 9\\nSkipping line 8369: expected 7 fields, saw 8\\nSkipping line 11767: expected 7 fields, saw 8\\n'\n"
     ]
    },
    {
     "data": {
      "text/html": [
       "<div>\n",
       "<style scoped>\n",
       "    .dataframe tbody tr th:only-of-type {\n",
       "        vertical-align: middle;\n",
       "    }\n",
       "\n",
       "    .dataframe tbody tr th {\n",
       "        vertical-align: top;\n",
       "    }\n",
       "\n",
       "    .dataframe thead th {\n",
       "        text-align: right;\n",
       "    }\n",
       "</style>\n",
       "<table border=\"1\" class=\"dataframe\">\n",
       "  <thead>\n",
       "    <tr style=\"text-align: right;\">\n",
       "      <th></th>\n",
       "      <th>number</th>\n",
       "      <th>Comment</th>\n",
       "      <th>Sentiment</th>\n",
       "      <th>Sentiment_Mixed</th>\n",
       "      <th>Sentiment_Negative</th>\n",
       "      <th>Sentiment_Neutral</th>\n",
       "      <th>Sentiment_Positive</th>\n",
       "    </tr>\n",
       "  </thead>\n",
       "  <tbody>\n",
       "    <tr>\n",
       "      <th>0</th>\n",
       "      <td>0</td>\n",
       "      <td>Mira todo el vídeo para saber cómo, cuándo y d...</td>\n",
       "      <td>NEUTRAL</td>\n",
       "      <td>7.38355447538197e-05</td>\n",
       "      <td>0.07488377392292023</td>\n",
       "      <td>0.7302832007408142</td>\n",
       "      <td>0.19475926458835602</td>\n",
       "    </tr>\n",
       "    <tr>\n",
       "      <th>1</th>\n",
       "      <td>1</td>\n",
       "      <td>La exbox es el que yo quiero</td>\n",
       "      <td>POSITIVE</td>\n",
       "      <td>0.002404651138931513</td>\n",
       "      <td>0.01960178092122078</td>\n",
       "      <td>0.2622445225715637</td>\n",
       "      <td>0.7157490253448486</td>\n",
       "    </tr>\n",
       "    <tr>\n",
       "      <th>2</th>\n",
       "      <td>2</td>\n",
       "      <td>N.o. m.e. i.g.n.o.r.e.n</td>\n",
       "      <td>NEUTRAL</td>\n",
       "      <td>2.4324339392478578e-05</td>\n",
       "      <td>0.14702238142490387</td>\n",
       "      <td>0.8462755084037781</td>\n",
       "      <td>0.0066777500323951244</td>\n",
       "    </tr>\n",
       "    <tr>\n",
       "      <th>3</th>\n",
       "      <td>3</td>\n",
       "      <td>Ya me siscribi</td>\n",
       "      <td>NEUTRAL</td>\n",
       "      <td>1.953602804860566e-06</td>\n",
       "      <td>0.31459498405456543</td>\n",
       "      <td>0.6729583740234375</td>\n",
       "      <td>0.012444673106074333</td>\n",
       "    </tr>\n",
       "    <tr>\n",
       "      <th>4</th>\n",
       "      <td>4</td>\n",
       "      <td>Quiero participar</td>\n",
       "      <td>NEUTRAL</td>\n",
       "      <td>2.2022537450538948e-05</td>\n",
       "      <td>0.0019117718329653144</td>\n",
       "      <td>0.6043353080749512</td>\n",
       "      <td>0.39373087882995605</td>\n",
       "    </tr>\n",
       "  </tbody>\n",
       "</table>\n",
       "</div>"
      ],
      "text/plain": [
       "  number                                            Comment Sentiment  \\\n",
       "0      0  Mira todo el vídeo para saber cómo, cuándo y d...   NEUTRAL   \n",
       "1      1                       La exbox es el que yo quiero  POSITIVE   \n",
       "2      2                            N.o. m.e. i.g.n.o.r.e.n   NEUTRAL   \n",
       "3      3                                     Ya me siscribi   NEUTRAL   \n",
       "4      4                                  Quiero participar   NEUTRAL   \n",
       "\n",
       "          Sentiment_Mixed     Sentiment_Negative   Sentiment_Neutral  \\\n",
       "0    7.38355447538197e-05    0.07488377392292023  0.7302832007408142   \n",
       "1    0.002404651138931513    0.01960178092122078  0.2622445225715637   \n",
       "2  2.4324339392478578e-05    0.14702238142490387  0.8462755084037781   \n",
       "3   1.953602804860566e-06    0.31459498405456543  0.6729583740234375   \n",
       "4  2.2022537450538948e-05  0.0019117718329653144  0.6043353080749512   \n",
       "\n",
       "      Sentiment_Positive  \n",
       "0    0.19475926458835602  \n",
       "1     0.7157490253448486  \n",
       "2  0.0066777500323951244  \n",
       "3   0.012444673106074333  \n",
       "4    0.39373087882995605  "
      ]
     },
     "execution_count": 2,
     "metadata": {},
     "output_type": "execute_result"
    }
   ],
   "source": [
    "df = pd.read_csv('./data-test.csv', index_col=False, encoding='utf-8', error_bad_lines=False)\n",
    "df.head()"
   ]
  },
  {
   "cell_type": "code",
   "execution_count": 3,
   "metadata": {},
   "outputs": [
    {
     "data": {
      "text/plain": [
       "number                7546\n",
       "Comment               7546\n",
       "Sentiment             7546\n",
       "Sentiment_Mixed       7546\n",
       "Sentiment_Negative    7546\n",
       "Sentiment_Neutral     7546\n",
       "Sentiment_Positive    7546\n",
       "dtype: int64"
      ]
     },
     "execution_count": 3,
     "metadata": {},
     "output_type": "execute_result"
    }
   ],
   "source": [
    "df = df[df['Sentiment'].isin(['POSITIVE', 'NEGATIVE'])]\n",
    "df.count()"
   ]
  },
  {
   "cell_type": "code",
   "execution_count": 4,
   "metadata": {},
   "outputs": [
    {
     "ename": "IndexError",
     "evalue": "list index out of range",
     "output_type": "error",
     "traceback": [
      "\u001b[0;31m---------------------------------------------------------------------------\u001b[0m",
      "\u001b[0;31mIndexError\u001b[0m                                Traceback (most recent call last)",
      "\u001b[0;32m<ipython-input-4-1505f29bbb9f>\u001b[0m in \u001b[0;36m<module>\u001b[0;34m\u001b[0m\n\u001b[1;32m      1\u001b[0m \u001b[0maaa\u001b[0m \u001b[0;34m=\u001b[0m \u001b[0mlist\u001b[0m\u001b[0;34m(\u001b[0m\u001b[0mdf\u001b[0m\u001b[0;34m[\u001b[0m\u001b[0mdf\u001b[0m\u001b[0;34m[\u001b[0m\u001b[0;34m'Sentiment'\u001b[0m\u001b[0;34m]\u001b[0m \u001b[0;34m==\u001b[0m \u001b[0;36m0\u001b[0m\u001b[0;34m]\u001b[0m\u001b[0;34m[\u001b[0m\u001b[0;34m'Comment'\u001b[0m\u001b[0;34m]\u001b[0m\u001b[0;34m)\u001b[0m\u001b[0;34m\u001b[0m\u001b[0;34m\u001b[0m\u001b[0m\n\u001b[0;32m----> 2\u001b[0;31m \u001b[0mprint\u001b[0m\u001b[0;34m(\u001b[0m\u001b[0maaa\u001b[0m\u001b[0;34m[\u001b[0m\u001b[0;36m0\u001b[0m\u001b[0;34m]\u001b[0m\u001b[0;34m)\u001b[0m\u001b[0;34m\u001b[0m\u001b[0;34m\u001b[0m\u001b[0m\n\u001b[0m",
      "\u001b[0;31mIndexError\u001b[0m: list index out of range"
     ]
    }
   ],
   "source": [
    "aaa = list(df[df['Sentiment'] == 0]['Comment'])\n",
    "print(aaa[0])"
   ]
  },
  {
   "cell_type": "code",
   "execution_count": 5,
   "metadata": {},
   "outputs": [
    {
     "data": {
      "text/html": [
       "<div>\n",
       "<style scoped>\n",
       "    .dataframe tbody tr th:only-of-type {\n",
       "        vertical-align: middle;\n",
       "    }\n",
       "\n",
       "    .dataframe tbody tr th {\n",
       "        vertical-align: top;\n",
       "    }\n",
       "\n",
       "    .dataframe thead th {\n",
       "        text-align: right;\n",
       "    }\n",
       "</style>\n",
       "<table border=\"1\" class=\"dataframe\">\n",
       "  <thead>\n",
       "    <tr style=\"text-align: right;\">\n",
       "      <th></th>\n",
       "      <th>number</th>\n",
       "      <th>Comment</th>\n",
       "      <th>Sentiment</th>\n",
       "      <th>Sentiment_Mixed</th>\n",
       "      <th>Sentiment_Negative</th>\n",
       "      <th>Sentiment_Neutral</th>\n",
       "      <th>Sentiment_Positive</th>\n",
       "    </tr>\n",
       "  </thead>\n",
       "  <tbody>\n",
       "    <tr>\n",
       "      <th>1</th>\n",
       "      <td>1</td>\n",
       "      <td>la exbox es el que yo quiero</td>\n",
       "      <td>1</td>\n",
       "      <td>0.002404651138931513</td>\n",
       "      <td>0.01960178092122078</td>\n",
       "      <td>0.2622445225715637</td>\n",
       "      <td>0.7157490253448486</td>\n",
       "    </tr>\n",
       "    <tr>\n",
       "      <th>6</th>\n",
       "      <td>6</td>\n",
       "      <td>yo quisiera que me tocara la xbox es mi consol...</td>\n",
       "      <td>1</td>\n",
       "      <td>0.00023217413399834186</td>\n",
       "      <td>0.006433135364204645</td>\n",
       "      <td>0.0954638123512268</td>\n",
       "      <td>0.8978709578514099</td>\n",
       "    </tr>\n",
       "    <tr>\n",
       "      <th>7</th>\n",
       "      <td>7</td>\n",
       "      <td>me encantaría la negra</td>\n",
       "      <td>1</td>\n",
       "      <td>0.1305803507566452</td>\n",
       "      <td>0.027237318456172943</td>\n",
       "      <td>0.13413338363170624</td>\n",
       "      <td>0.7080488801002502</td>\n",
       "    </tr>\n",
       "    <tr>\n",
       "      <th>8</th>\n",
       "      <td>8</td>\n",
       "      <td>like: listo\\nsuscrita a los dos canales:listo ...</td>\n",
       "      <td>1</td>\n",
       "      <td>6.439394837798318e-06</td>\n",
       "      <td>0.0006571895792149007</td>\n",
       "      <td>0.3668906092643738</td>\n",
       "      <td>0.6324456930160522</td>\n",
       "    </tr>\n",
       "    <tr>\n",
       "      <th>11</th>\n",
       "      <td>11</td>\n",
       "      <td>buenas  me gustaría ganar la ps5 soy muy fan d...</td>\n",
       "      <td>1</td>\n",
       "      <td>7.720212306594476e-05</td>\n",
       "      <td>0.027157854288816452</td>\n",
       "      <td>0.17522844672203064</td>\n",
       "      <td>0.7975365519523621</td>\n",
       "    </tr>\n",
       "  </tbody>\n",
       "</table>\n",
       "</div>"
      ],
      "text/plain": [
       "   number                                            Comment  Sentiment  \\\n",
       "1       1                       la exbox es el que yo quiero          1   \n",
       "6       6  yo quisiera que me tocara la xbox es mi consol...          1   \n",
       "7       7                             me encantaría la negra          1   \n",
       "8       8  like: listo\\nsuscrita a los dos canales:listo ...          1   \n",
       "11     11  buenas  me gustaría ganar la ps5 soy muy fan d...          1   \n",
       "\n",
       "           Sentiment_Mixed     Sentiment_Negative    Sentiment_Neutral  \\\n",
       "1     0.002404651138931513    0.01960178092122078   0.2622445225715637   \n",
       "6   0.00023217413399834186   0.006433135364204645   0.0954638123512268   \n",
       "7       0.1305803507566452   0.027237318456172943  0.13413338363170624   \n",
       "8    6.439394837798318e-06  0.0006571895792149007   0.3668906092643738   \n",
       "11   7.720212306594476e-05   0.027157854288816452  0.17522844672203064   \n",
       "\n",
       "    Sentiment_Positive  \n",
       "1   0.7157490253448486  \n",
       "6   0.8978709578514099  \n",
       "7   0.7080488801002502  \n",
       "8   0.6324456930160522  \n",
       "11  0.7975365519523621  "
      ]
     },
     "execution_count": 5,
     "metadata": {},
     "output_type": "execute_result"
    }
   ],
   "source": [
    "df['Comment'] = df['Comment'].apply(lambda x: str(x).lower())\n",
    "df['Sentiment'] = df['Sentiment'].apply(lambda x: 1 if x == 'POSITIVE' else 0)\n",
    "df.head()"
   ]
  },
  {
   "cell_type": "code",
   "execution_count": 6,
   "metadata": {},
   "outputs": [],
   "source": [
    "vectorizer = CountVectorizer(\n",
    "    analyzer = 'word',\n",
    "    lowercase = False,\n",
    ")\n",
    "features = vectorizer.fit_transform(\n",
    "    df['Comment']\n",
    ")\n",
    "features_nd = features.toarray() # for easy usage\n"
   ]
  },
  {
   "cell_type": "code",
   "execution_count": 14,
   "metadata": {},
   "outputs": [],
   "source": [
    "from sklearn.model_selection import train_test_split\n",
    "\n",
    "X_train, X_test, y_train, y_test  = train_test_split(\n",
    "        features_nd, \n",
    "        df['Sentiment'],\n",
    "        train_size=0.80, \n",
    "        random_state=1234)"
   ]
  },
  {
   "cell_type": "code",
   "execution_count": 15,
   "metadata": {},
   "outputs": [
    {
     "name": "stdout",
     "output_type": "stream",
     "text": [
      "[[0 0 0 ... 0 0 0]\n",
      " [0 0 0 ... 0 0 0]\n",
      " [0 0 0 ... 0 0 0]\n",
      " ...\n",
      " [0 0 0 ... 0 0 0]\n",
      " [0 0 0 ... 0 0 0]\n",
      " [0 0 0 ... 0 0 0]]\n"
     ]
    }
   ],
   "source": [
    "print(X_test)"
   ]
  },
  {
   "cell_type": "code",
   "execution_count": 8,
   "metadata": {
    "scrolled": true
   },
   "outputs": [
    {
     "data": {
      "text/html": [
       "<div>\n",
       "<style scoped>\n",
       "    .dataframe tbody tr th:only-of-type {\n",
       "        vertical-align: middle;\n",
       "    }\n",
       "\n",
       "    .dataframe tbody tr th {\n",
       "        vertical-align: top;\n",
       "    }\n",
       "\n",
       "    .dataframe thead th {\n",
       "        text-align: right;\n",
       "    }\n",
       "</style>\n",
       "<table border=\"1\" class=\"dataframe\">\n",
       "  <thead>\n",
       "    <tr style=\"text-align: right;\">\n",
       "      <th></th>\n",
       "      <th>number</th>\n",
       "      <th>Comment</th>\n",
       "      <th>Sentiment</th>\n",
       "      <th>Sentiment_Mixed</th>\n",
       "      <th>Sentiment_Negative</th>\n",
       "      <th>Sentiment_Neutral</th>\n",
       "      <th>Sentiment_Positive</th>\n",
       "    </tr>\n",
       "  </thead>\n",
       "  <tbody>\n",
       "    <tr>\n",
       "      <th>1</th>\n",
       "      <td>1</td>\n",
       "      <td>la exbox es el que yo quiero</td>\n",
       "      <td>1</td>\n",
       "      <td>0.002404651138931513</td>\n",
       "      <td>0.01960178092122078</td>\n",
       "      <td>0.2622445225715637</td>\n",
       "      <td>0.7157490253448486</td>\n",
       "    </tr>\n",
       "    <tr>\n",
       "      <th>6</th>\n",
       "      <td>6</td>\n",
       "      <td>yo quisiera que me tocara la xbox es mi consol...</td>\n",
       "      <td>1</td>\n",
       "      <td>0.00023217413399834186</td>\n",
       "      <td>0.006433135364204645</td>\n",
       "      <td>0.0954638123512268</td>\n",
       "      <td>0.8978709578514099</td>\n",
       "    </tr>\n",
       "    <tr>\n",
       "      <th>7</th>\n",
       "      <td>7</td>\n",
       "      <td>me encantaría la negra</td>\n",
       "      <td>1</td>\n",
       "      <td>0.1305803507566452</td>\n",
       "      <td>0.027237318456172943</td>\n",
       "      <td>0.13413338363170624</td>\n",
       "      <td>0.7080488801002502</td>\n",
       "    </tr>\n",
       "    <tr>\n",
       "      <th>8</th>\n",
       "      <td>8</td>\n",
       "      <td>like: listo\\nsuscrita a los dos canales:listo ...</td>\n",
       "      <td>1</td>\n",
       "      <td>6.439394837798318e-06</td>\n",
       "      <td>0.0006571895792149007</td>\n",
       "      <td>0.3668906092643738</td>\n",
       "      <td>0.6324456930160522</td>\n",
       "    </tr>\n",
       "    <tr>\n",
       "      <th>11</th>\n",
       "      <td>11</td>\n",
       "      <td>buenas  me gustaría ganar la ps5 soy muy fan d...</td>\n",
       "      <td>1</td>\n",
       "      <td>7.720212306594476e-05</td>\n",
       "      <td>0.027157854288816452</td>\n",
       "      <td>0.17522844672203064</td>\n",
       "      <td>0.7975365519523621</td>\n",
       "    </tr>\n",
       "  </tbody>\n",
       "</table>\n",
       "</div>"
      ],
      "text/plain": [
       "   number                                            Comment  Sentiment  \\\n",
       "1       1                       la exbox es el que yo quiero          1   \n",
       "6       6  yo quisiera que me tocara la xbox es mi consol...          1   \n",
       "7       7                             me encantaría la negra          1   \n",
       "8       8  like: listo\\nsuscrita a los dos canales:listo ...          1   \n",
       "11     11  buenas  me gustaría ganar la ps5 soy muy fan d...          1   \n",
       "\n",
       "           Sentiment_Mixed     Sentiment_Negative    Sentiment_Neutral  \\\n",
       "1     0.002404651138931513    0.01960178092122078   0.2622445225715637   \n",
       "6   0.00023217413399834186   0.006433135364204645   0.0954638123512268   \n",
       "7       0.1305803507566452   0.027237318456172943  0.13413338363170624   \n",
       "8    6.439394837798318e-06  0.0006571895792149007   0.3668906092643738   \n",
       "11   7.720212306594476e-05   0.027157854288816452  0.17522844672203064   \n",
       "\n",
       "    Sentiment_Positive  \n",
       "1   0.7157490253448486  \n",
       "6   0.8978709578514099  \n",
       "7   0.7080488801002502  \n",
       "8   0.6324456930160522  \n",
       "11  0.7975365519523621  "
      ]
     },
     "execution_count": 8,
     "metadata": {},
     "output_type": "execute_result"
    }
   ],
   "source": [
    "from sklearn.linear_model import LogisticRegression\n",
    "\n",
    "log_model = LogisticRegression(solver='lbfgs',class_weight='balanced', max_iter=10000)\n",
    "log_model = log_model.fit(X=X_train, y=y_train)\n",
    "y_pred = log_model.predict(X_test)\n",
    "df.head()"
   ]
  },
  {
   "cell_type": "code",
   "execution_count": 16,
   "metadata": {},
   "outputs": [
    {
     "data": {
      "text/plain": [
       "['vectorizer.joblib']"
      ]
     },
     "execution_count": 16,
     "metadata": {},
     "output_type": "execute_result"
    }
   ],
   "source": [
    "dump(log_model, 'model.joblib')\n",
    "dump(vectorizer, 'vectorizer.joblib')"
   ]
  },
  {
   "cell_type": "code",
   "execution_count": 10,
   "metadata": {},
   "outputs": [
    {
     "name": "stdout",
     "output_type": "stream",
     "text": [
      "0\n",
      "sería muy chido tener un play station 5:(.\n",
      "1\n",
      "like: listo\n",
      " <3\n",
      "comentario: listo <3\n",
      "suscripción: listo <3\n",
      "hola!! soy de argentina y me gustaria la play5!!! saludos a los dos!\n",
      "1\n",
      "excelente regalo 🎁 para navidad 🎄\n",
      "1\n",
      "cualquiera las 2 son buenas  :'v\n",
      "1\n",
      "me gustaría x xbox\n",
      "1\n",
      "estoy suscrito le he dado lije y lo he compartido\n",
      "1\n",
      "ganar o que\n"
     ]
    }
   ],
   "source": [
    "import random\n",
    "j = random.randint(0,len(X_test)-7)\n",
    "comments = list(df['Comment'])\n",
    "for i in range(j,j+7):\n",
    "    print(y_pred[i])\n",
    "    ind = features_nd.tolist().index(X_test[i].tolist())\n",
    "    print(comments[i])"
   ]
  },
  {
   "cell_type": "code",
   "execution_count": 11,
   "metadata": {},
   "outputs": [
    {
     "name": "stdout",
     "output_type": "stream",
     "text": [
      "0.8556291390728477\n"
     ]
    }
   ],
   "source": [
    "from sklearn.metrics import accuracy_score\n",
    "print(accuracy_score(y_test, y_pred))"
   ]
  },
  {
   "cell_type": "code",
   "execution_count": null,
   "metadata": {},
   "outputs": [],
   "source": []
  }
 ],
 "metadata": {
  "kernelspec": {
   "display_name": "Python 3",
   "language": "python",
   "name": "python3"
  },
  "language_info": {
   "codemirror_mode": {
    "name": "ipython",
    "version": 3
   },
   "file_extension": ".py",
   "mimetype": "text/x-python",
   "name": "python",
   "nbconvert_exporter": "python",
   "pygments_lexer": "ipython3",
   "version": "3.8.3"
  }
 },
 "nbformat": 4,
 "nbformat_minor": 4
}
